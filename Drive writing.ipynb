{
  "nbformat": 4,
  "nbformat_minor": 0,
  "metadata": {
    "colab": {
      "provenance": [],
      "authorship_tag": "ABX9TyPIIfxCmM6Kqxac0tM0tXBE",
      "include_colab_link": true
    },
    "kernelspec": {
      "name": "python3",
      "display_name": "Python 3"
    },
    "language_info": {
      "name": "python"
    }
  },
  "cells": [
    {
      "cell_type": "markdown",
      "metadata": {
        "id": "view-in-github",
        "colab_type": "text"
      },
      "source": [
        "<a href=\"https://colab.research.google.com/github/HKRcodes/BASIC-PYTHON/blob/main/Drive%20writing.ipynb\" target=\"_parent\"><img src=\"https://colab.research.google.com/assets/colab-badge.svg\" alt=\"Open In Colab\"/></a>"
      ]
    },
    {
      "cell_type": "code",
      "execution_count": null,
      "metadata": {
        "colab": {
          "base_uri": "https://localhost:8080/"
        },
        "id": "-kn0ZTQlZmMH",
        "outputId": "394b817c-7f6d-4b79-f3ab-071582a8c9ca"
      },
      "outputs": [
        {
          "output_type": "stream",
          "name": "stdout",
          "text": [
            "Mounted at /gdrive\n",
            "/gdrive\n"
          ]
        }
      ],
      "source": [
        "#First we have to mount the google drive.\n",
        "#Select the mail id when directed and select allow.\n",
        "\n",
        "from google.colab import drive\n",
        "drive.mount('/gdrive')\n",
        "%cd /gdrive"
      ]
    },
    {
      "cell_type": "code",
      "source": [
        "#If we only link the drive to colab can we add changes to the drive by coding in colab.\n",
        "#Here a new file named colabfile will be created in drive with the specified text inside.\n",
        "\n",
        "f=open('/gdrive/My Drive/Colab Notebooks/colabfile.txt','w')\n",
        "f.write('Doing stuff in google drive with colab is fun.')\n",
        "f.close()"
      ],
      "metadata": {
        "id": "WXuTfUCHcEK9"
      },
      "execution_count": null,
      "outputs": []
    },
    {
      "cell_type": "code",
      "source": [
        "f=open('/gdrive/My Drive/Colab Notebooks/colabfile.txt','r')\n",
        "text = f.read()\n",
        "print(text)\n",
        "f.close()"
      ],
      "metadata": {
        "colab": {
          "base_uri": "https://localhost:8080/"
        },
        "id": "oRvqbZv-lX3C",
        "outputId": "a17d098c-3d2b-436b-fae9-36e8d94e1980"
      },
      "execution_count": null,
      "outputs": [
        {
          "output_type": "stream",
          "name": "stdout",
          "text": [
            "Doing stuff in google drive with colab is fun.\n"
          ]
        }
      ]
    }
  ]
}
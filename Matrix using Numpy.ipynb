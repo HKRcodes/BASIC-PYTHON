{
  "nbformat": 4,
  "nbformat_minor": 0,
  "metadata": {
    "colab": {
      "provenance": [],
      "authorship_tag": "ABX9TyO8AqlfwTtChzaLb347dWKa",
      "include_colab_link": true
    },
    "kernelspec": {
      "name": "python3",
      "display_name": "Python 3"
    },
    "language_info": {
      "name": "python"
    }
  },
  "cells": [
    {
      "cell_type": "markdown",
      "metadata": {
        "id": "view-in-github",
        "colab_type": "text"
      },
      "source": [
        "<a href=\"https://colab.research.google.com/github/HKRcodes/BASIC-PYTHON/blob/main/Matrix%20using%20Numpy.ipynb\" target=\"_parent\"><img src=\"https://colab.research.google.com/assets/colab-badge.svg\" alt=\"Open In Colab\"/></a>"
      ]
    },
    {
      "cell_type": "markdown",
      "source": [
        "We can use numpy module to make array operations easier."
      ],
      "metadata": {
        "id": "2QKLA9kcOJbJ"
      }
    },
    {
      "cell_type": "code",
      "execution_count": null,
      "metadata": {
        "id": "K0fvHHAfMkH3",
        "colab": {
          "base_uri": "https://localhost:8080/"
        },
        "outputId": "b6e78e8e-b629-46aa-982a-2392fba72950"
      },
      "outputs": [
        {
          "output_type": "stream",
          "name": "stdout",
          "text": [
            "Matrix values A :  [[1 2 3]\n",
            " [4 5 6]]\n",
            "Size of the matrix A :  (2, 3)\n",
            "Matrix values B :  [[1 2]\n",
            " [3 4]\n",
            " [5 6]]\n",
            "Size of the matrix B :  (3, 2)\n"
          ]
        }
      ],
      "source": [
        "import numpy as np\n",
        "a = np.array([[1,2,3],[4,5,6]])\n",
        "b = np.array([[1,2],[3,4],[5,6]])\n",
        "print(\"Matrix values A : \",a)\n",
        "print(\"Size of the matrix A : \",a.shape)\n",
        "print(\"Matrix values B : \",b)\n",
        "print(\"Size of the matrix B : \",b.shape)"
      ]
    }
  ]
}